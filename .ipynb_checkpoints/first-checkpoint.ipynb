{
 "cells": [
  {
   "cell_type": "code",
   "execution_count": 1,
   "id": "6c508ef8-22a8-4681-8a7a-9899d656f572",
   "metadata": {},
   "outputs": [
    {
     "name": "stdout",
     "output_type": "stream",
     "text": [
      "welomecome to the seminar\n"
     ]
    }
   ],
   "source": [
    "print(\"welomecome to the seminar\")"
   ]
  },
  {
   "cell_type": "markdown",
   "id": "6abc97b8-b843-41a3-893a-28c6892f5e03",
   "metadata": {},
   "source": [
    "name=input(\"please enter your name\")\n",
    "print(f\"hi,{name}!welcome to the first session\")"
   ]
  },
  {
   "cell_type": "code",
   "execution_count": 2,
   "id": "86bdab6d-ccc5-4149-b33f-4f9fab255cae",
   "metadata": {},
   "outputs": [
    {
     "name": "stdin",
     "output_type": "stream",
     "text": [
      "please enter your name solomon\n"
     ]
    },
    {
     "name": "stdout",
     "output_type": "stream",
     "text": [
      "hi,solomon!welcome to the first session\n"
     ]
    }
   ],
   "source": [
    "name=input(\"please enter your name\")\n",
    "print(f\"hi,{name}!welcome to the first session\")"
   ]
  }
 ],
 "metadata": {
  "kernelspec": {
   "display_name": "Python 3 (ipykernel)",
   "language": "python",
   "name": "python3"
  },
  "language_info": {
   "codemirror_mode": {
    "name": "ipython",
    "version": 3
   },
   "file_extension": ".py",
   "mimetype": "text/x-python",
   "name": "python",
   "nbconvert_exporter": "python",
   "pygments_lexer": "ipython3",
   "version": "3.13.5"
  }
 },
 "nbformat": 4,
 "nbformat_minor": 5
}
